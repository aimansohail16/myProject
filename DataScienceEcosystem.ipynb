{
 "cells": [
  {
   "cell_type": "markdown",
   "id": "e8b514b5-5a61-47bb-814f-b151d093ee94",
   "metadata": {},
   "source": [
    "# Data Science Tools and Ecosystem"
   ]
  },
  {
   "cell_type": "markdown",
   "id": "6e96b45a-1cde-4ca8-b814-d97fce3bc50d",
   "metadata": {},
   "source": [
    "In this notebook, Data Science Tools and Ecosystem are summarized."
   ]
  },
  {
   "cell_type": "markdown",
   "id": "58a36f4d-7cad-4173-ac2f-e44052c87f5e",
   "metadata": {},
   "source": [
    "Some of the popular languages that Data Scientists use are:\n",
    "1. Python\n",
    "2. R\n",
    "3. SQL\n",
    "4. C++\n",
    "5. Java etc...;"
   ]
  },
  {
   "cell_type": "markdown",
   "id": "0cc841c0-d138-4ce1-8ac6-5b40b1c90281",
   "metadata": {},
   "source": [
    "__Objectives__\n",
    "* List popular languages for Data Science\n",
    "* list popular libraries for Data Science\n",
    "* List of well known Data Science Tools\n",
    "* How to provide Comments in the cell"
   ]
  },
  {
   "cell_type": "markdown",
   "id": "85ccfa88-f2f6-4d6e-a394-0ce909b5dd0f",
   "metadata": {},
   "source": [
    "Some of the popular languages that Data Scientists use are:\n",
    "1. TensorFlow\n",
    "2. NumPy \n",
    "3. SciPy\n",
    "4. Pandas\n",
    "5. Matplotlib\n",
    "6. Keras\n",
    "7. Scikit-Learn\n",
    "8. PyTorch etc..;"
   ]
  },
  {
   "cell_type": "markdown",
   "id": "30de99c3-21bb-4102-8b4f-6da2909786f2",
   "metadata": {},
   "source": [
    "| Data Science Tools |\n",
    "|--------------------|\n",
    "| Jupyter Notebooks  |\n",
    "| RStudio            |\n",
    "| Visual Studio Code |\n"
   ]
  },
  {
   "cell_type": "markdown",
   "id": "f4e60eca-2b2f-40a1-a589-2bf0c48a80ec",
   "metadata": {
    "tags": []
   },
   "source": [
    "### Below are a few examples of evaluating arithmetic expressions in Python"
   ]
  },
  {
   "cell_type": "code",
   "execution_count": 1,
   "id": "f9857af4-350d-4afb-af30-3a6579fa28df",
   "metadata": {
    "tags": []
   },
   "outputs": [
    {
     "data": {
      "text/plain": [
       "17"
      ]
     },
     "execution_count": 1,
     "metadata": {},
     "output_type": "execute_result"
    }
   ],
   "source": [
    "#This a simple arithmetic expression to mutiply then add integers \n",
    "(3*4)+5"
   ]
  },
  {
   "cell_type": "code",
   "execution_count": 2,
   "id": "1309b09d-ed94-4790-9c18-a8cfb5c4d051",
   "metadata": {
    "tags": []
   },
   "outputs": [
    {
     "data": {
      "text/plain": [
       "3.3333333333333335"
      ]
     },
     "execution_count": 2,
     "metadata": {},
     "output_type": "execute_result"
    }
   ],
   "source": [
    "#This will convert 200 minutes to hours by diving, by 60 \n",
    "200/60"
   ]
  },
  {
   "cell_type": "markdown",
   "id": "3c10f394-b2d5-4f2b-8266-e0a9f586d1c5",
   "metadata": {},
   "source": [
    "## Author\n",
    "Aiman Sohail"
   ]
  },
  {
   "cell_type": "code",
   "execution_count": null,
   "id": "1b4d68a8-a1e5-4e2e-a2e8-038ba13c9f36",
   "metadata": {},
   "outputs": [],
   "source": []
  }
 ],
 "metadata": {
  "kernelspec": {
   "display_name": "Python",
   "language": "python",
   "name": "conda-env-python-py"
  },
  "language_info": {
   "codemirror_mode": {
    "name": "ipython",
    "version": 3
   },
   "file_extension": ".py",
   "mimetype": "text/x-python",
   "name": "python",
   "nbconvert_exporter": "python",
   "pygments_lexer": "ipython3",
   "version": "3.7.12"
  }
 },
 "nbformat": 4,
 "nbformat_minor": 5
}
